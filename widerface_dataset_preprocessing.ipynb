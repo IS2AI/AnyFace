{
 "cells": [
  {
   "cell_type": "code",
   "execution_count": 1,
   "metadata": {},
   "outputs": [],
   "source": [
    "from imutils import paths \n",
    "from shutil import copyfile\n",
    "import os"
   ]
  },
  {
   "cell_type": "code",
   "execution_count": 2,
   "metadata": {},
   "outputs": [],
   "source": [
    "def make_dir(dirName):\n",
    "    # Create a target directory & all intermediate \n",
    "    # directories if they don't exists\n",
    "    \n",
    "    if not os.path.exists(dirName):\n",
    "        os.makedirs(dirName, exist_ok = True)\n",
    "        print(\"[INFO] Directory \" , dirName ,  \" created\")\n",
    "    else:\n",
    "        print(\"[INFO] Directory \" , dirName ,  \" already exists\")"
   ]
  },
  {
   "cell_type": "code",
   "execution_count": 3,
   "metadata": {},
   "outputs": [
    {
     "name": "stdout",
     "output_type": "stream",
     "text": [
      "[INFO] Directory  dataset/widerface/train/images  created\n",
      "[INFO] Directory  dataset/widerface/train/labels  created\n",
      "[INFO] Directory  dataset/widerface/test/images  created\n",
      "[INFO] Directory  dataset/widerface/test/labels  created\n",
      "[INFO] Directory  dataset/widerface/val/images  created\n",
      "[INFO] Directory  dataset/widerface/val/labels  created\n"
     ]
    }
   ],
   "source": [
    "# Define dataset directories\n",
    "SOURCE_PATH = 'widerface'\n",
    "TARGET_PATH = 'dataset/widerface'\n",
    "\n",
    "# Define and make directories for training, validation and testing sets\n",
    "TRAIN_IMG_DIR = 'train/images'\n",
    "TRAIN_LAB_DIR = 'train/labels'\n",
    "make_dir(os.path.join(TARGET_PATH, TRAIN_IMG_DIR))\n",
    "make_dir(os.path.join(TARGET_PATH, TRAIN_LAB_DIR))\n",
    "\n",
    "TEST_IMG_DIR = 'test/images'\n",
    "TEST_LAB_DIR = 'test/labels'\n",
    "make_dir(os.path.join(TARGET_PATH, TEST_IMG_DIR))\n",
    "make_dir(os.path.join(TARGET_PATH, TEST_LAB_DIR))\n",
    "\n",
    "VAL_IMG_DIR = 'val/images'\n",
    "VAL_LAB_DIR = 'val/labels'\n",
    "make_dir(os.path.join(TARGET_PATH, VAL_IMG_DIR))\n",
    "make_dir(os.path.join(TARGET_PATH, VAL_LAB_DIR))"
   ]
  },
  {
   "cell_type": "code",
   "execution_count": 8,
   "metadata": {},
   "outputs": [],
   "source": [
    "def convert(source_path, target_path, set_='train'):\n",
    "        source_txt = os.path.join(source_path, set_, 'label.txt')\n",
    "        face_counter = 0\n",
    "        image_counter = 0\n",
    "        f = open(source_txt, 'r')\n",
    "        \n",
    "        lines = f.readlines()\n",
    "        \n",
    "        for line in lines:\n",
    "            line = line.split(' ')\n",
    "            \n",
    "            if line[0] == '#':\n",
    "                source_img = os.path.join(source_path, set_, 'images', line[1].split('\\n')[0])\n",
    "                target_img = os.path.join(target_path, set_, 'images', line[1].split('/')[-1].split('\\n')[0])\n",
    "                image_counter += 1\n",
    "                copyfile(source_img, target_img)\n",
    "                \n",
    "                if set_ != 'test':\n",
    "                    target_txt = open(os.path.join(target_path, set_,\n",
    "                                    'labels/{}.txt'.format(line[1].split('/')[-1].split('.jpg')[0])), \"w\")\n",
    "            else:\n",
    "                face_counter += 1\n",
    "                line = [float(i) for i in line[:18]]\n",
    "                if set_ == 'train':\n",
    "                    label = 'face {:.3f} {:.3f} {:.3f} {:.3f} {:.3f} {:.3f} {:.3f} {:.3f} {:.3f} {:.3f} {:.3f} {:.3f} {:.3f} {:.3f}\\n'.format(\n",
    "                        line[0], line[1], line[2], line[3], # left, top, width, height \n",
    "                        line[4], line[5], line[7], line[8], line[10], line[11], line[13], # p1x,p1y,p2x,p2y,p3x,p3y \n",
    "                        line[14], line[16], line[17]) # p4x,p4y,p5x,p5y\n",
    "                else:\n",
    "                    label = 'face {:.3f} {:.3f} {:.3f} {:.3f} {:.3f} {:.3f} {:.3f} {:.3f} {:.3f} {:.3f} {:.3f} {:.3f} {:.3f} {:.3f}\\n'.format(\n",
    "                        line[0], line[1], line[2], line[3], # xs, ys, xe, ye \n",
    "                        -1, -1, -1, -1, -1, -1, -1, # p1x,p1y,p2x,p2y,p3x,p3y \n",
    "                        -1, -1, -1) # p4x,p4y,p5x,p5y \n",
    "                    \n",
    "                target_txt.write(label)\n",
    "                \n",
    "        print(image_counter, face_counter)"
   ]
  },
  {
   "cell_type": "code",
   "execution_count": 9,
   "metadata": {},
   "outputs": [
    {
     "name": "stdout",
     "output_type": "stream",
     "text": [
      "12880 159424\n"
     ]
    }
   ],
   "source": [
    "convert(SOURCE_PATH, TARGET_PATH, set_='train')"
   ]
  },
  {
   "cell_type": "code",
   "execution_count": 10,
   "metadata": {},
   "outputs": [
    {
     "name": "stdout",
     "output_type": "stream",
     "text": [
      "3226 39708\n"
     ]
    }
   ],
   "source": [
    "convert(SOURCE_PATH, TARGET_PATH, set_='val')"
   ]
  },
  {
   "cell_type": "code",
   "execution_count": 11,
   "metadata": {},
   "outputs": [
    {
     "name": "stdout",
     "output_type": "stream",
     "text": [
      "16097 0\n"
     ]
    }
   ],
   "source": [
    "convert(SOURCE_PATH, TARGET_PATH, set_='test')"
   ]
  },
  {
   "cell_type": "code",
   "execution_count": null,
   "metadata": {},
   "outputs": [],
   "source": []
  }
 ],
 "metadata": {
  "kernelspec": {
   "display_name": "Python 3",
   "language": "python",
   "name": "python3"
  },
  "language_info": {
   "codemirror_mode": {
    "name": "ipython",
    "version": 3
   },
   "file_extension": ".py",
   "mimetype": "text/x-python",
   "name": "python",
   "nbconvert_exporter": "python",
   "pygments_lexer": "ipython3",
   "version": "3.6.10"
  }
 },
 "nbformat": 4,
 "nbformat_minor": 4
}
